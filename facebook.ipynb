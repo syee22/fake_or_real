{
 "cells": [
  {
   "cell_type": "code",
   "execution_count": 1,
   "metadata": {},
   "outputs": [],
   "source": [
    "import os\n",
    "os.getcwd()\n",
    "os.chdir(\"C:\\\\Q\")\n",
    "import pandas as pd\n",
    "\n",
    "train = pd.read_csv('facebook_train.csv')\n",
    "test = pd.read_csv('facebook_test.csv')\n"
   ]
  },
  {
   "cell_type": "code",
   "execution_count": 2,
   "metadata": {},
   "outputs": [
    {
     "data": {
      "text/html": [
       "<div>\n",
       "<style scoped>\n",
       "    .dataframe tbody tr th:only-of-type {\n",
       "        vertical-align: middle;\n",
       "    }\n",
       "\n",
       "    .dataframe tbody tr th {\n",
       "        vertical-align: top;\n",
       "    }\n",
       "\n",
       "    .dataframe thead th {\n",
       "        text-align: right;\n",
       "    }\n",
       "</style>\n",
       "<table border=\"1\" class=\"dataframe\">\n",
       "  <thead>\n",
       "    <tr style=\"text-align: right;\">\n",
       "      <th></th>\n",
       "      <th>ID</th>\n",
       "      <th>Status</th>\n",
       "      <th>No Friend</th>\n",
       "      <th>education</th>\n",
       "      <th>about me</th>\n",
       "      <th>family</th>\n",
       "      <th>gender</th>\n",
       "      <th>relationship</th>\n",
       "      <th>phototag*</th>\n",
       "      <th>photopost*</th>\n",
       "      <th>...</th>\n",
       "      <th>music</th>\n",
       "      <th>film</th>\n",
       "      <th>series</th>\n",
       "      <th>book</th>\n",
       "      <th>game</th>\n",
       "      <th>restaurant</th>\n",
       "      <th>like</th>\n",
       "      <th>group</th>\n",
       "      <th>note</th>\n",
       "      <th>post shared/post posted rate</th>\n",
       "    </tr>\n",
       "  </thead>\n",
       "  <tbody>\n",
       "    <tr>\n",
       "      <th>0</th>\n",
       "      <td>101</td>\n",
       "      <td>real</td>\n",
       "      <td>170</td>\n",
       "      <td>university</td>\n",
       "      <td>yes</td>\n",
       "      <td>yes</td>\n",
       "      <td>male</td>\n",
       "      <td>complicate</td>\n",
       "      <td>29</td>\n",
       "      <td>59</td>\n",
       "      <td>...</td>\n",
       "      <td>1</td>\n",
       "      <td>3</td>\n",
       "      <td>6</td>\n",
       "      <td>0</td>\n",
       "      <td>6</td>\n",
       "      <td>2</td>\n",
       "      <td>101</td>\n",
       "      <td>2</td>\n",
       "      <td>yes</td>\n",
       "      <td>0.1</td>\n",
       "    </tr>\n",
       "    <tr>\n",
       "      <th>1</th>\n",
       "      <td>102</td>\n",
       "      <td>real</td>\n",
       "      <td>353</td>\n",
       "      <td>university</td>\n",
       "      <td>yes</td>\n",
       "      <td>yes</td>\n",
       "      <td>male</td>\n",
       "      <td>alone</td>\n",
       "      <td>1</td>\n",
       "      <td>13</td>\n",
       "      <td>...</td>\n",
       "      <td>11</td>\n",
       "      <td>6</td>\n",
       "      <td>10</td>\n",
       "      <td>1</td>\n",
       "      <td>1</td>\n",
       "      <td>6</td>\n",
       "      <td>550</td>\n",
       "      <td>19</td>\n",
       "      <td>no</td>\n",
       "      <td>0.1</td>\n",
       "    </tr>\n",
       "    <tr>\n",
       "      <th>2</th>\n",
       "      <td>103</td>\n",
       "      <td>real</td>\n",
       "      <td>517</td>\n",
       "      <td>university</td>\n",
       "      <td>no</td>\n",
       "      <td>yes</td>\n",
       "      <td>male</td>\n",
       "      <td>alone</td>\n",
       "      <td>112</td>\n",
       "      <td>236</td>\n",
       "      <td>...</td>\n",
       "      <td>0</td>\n",
       "      <td>8</td>\n",
       "      <td>3</td>\n",
       "      <td>1</td>\n",
       "      <td>5</td>\n",
       "      <td>17</td>\n",
       "      <td>318</td>\n",
       "      <td>23</td>\n",
       "      <td>yes</td>\n",
       "      <td>0.5</td>\n",
       "    </tr>\n",
       "    <tr>\n",
       "      <th>3</th>\n",
       "      <td>104</td>\n",
       "      <td>real</td>\n",
       "      <td>460</td>\n",
       "      <td>university</td>\n",
       "      <td>no</td>\n",
       "      <td>yes</td>\n",
       "      <td>male</td>\n",
       "      <td>alone</td>\n",
       "      <td>74</td>\n",
       "      <td>142</td>\n",
       "      <td>...</td>\n",
       "      <td>16</td>\n",
       "      <td>14</td>\n",
       "      <td>17</td>\n",
       "      <td>6</td>\n",
       "      <td>19</td>\n",
       "      <td>0</td>\n",
       "      <td>900</td>\n",
       "      <td>32</td>\n",
       "      <td>yes</td>\n",
       "      <td>0.3</td>\n",
       "    </tr>\n",
       "    <tr>\n",
       "      <th>4</th>\n",
       "      <td>105</td>\n",
       "      <td>real</td>\n",
       "      <td>240</td>\n",
       "      <td>university</td>\n",
       "      <td>no</td>\n",
       "      <td>yes</td>\n",
       "      <td>female</td>\n",
       "      <td>complicate</td>\n",
       "      <td>23</td>\n",
       "      <td>13</td>\n",
       "      <td>...</td>\n",
       "      <td>0</td>\n",
       "      <td>0</td>\n",
       "      <td>0</td>\n",
       "      <td>0</td>\n",
       "      <td>0</td>\n",
       "      <td>0</td>\n",
       "      <td>15</td>\n",
       "      <td>2</td>\n",
       "      <td>no</td>\n",
       "      <td>0.1</td>\n",
       "    </tr>\n",
       "    <tr>\n",
       "      <th>5</th>\n",
       "      <td>106</td>\n",
       "      <td>real</td>\n",
       "      <td>340</td>\n",
       "      <td>high school</td>\n",
       "      <td>no</td>\n",
       "      <td>yes</td>\n",
       "      <td>male</td>\n",
       "      <td>complicate</td>\n",
       "      <td>12</td>\n",
       "      <td>120</td>\n",
       "      <td>...</td>\n",
       "      <td>0</td>\n",
       "      <td>0</td>\n",
       "      <td>0</td>\n",
       "      <td>0</td>\n",
       "      <td>0</td>\n",
       "      <td>0</td>\n",
       "      <td>44</td>\n",
       "      <td>3</td>\n",
       "      <td>no</td>\n",
       "      <td>0.5</td>\n",
       "    </tr>\n",
       "    <tr>\n",
       "      <th>6</th>\n",
       "      <td>107</td>\n",
       "      <td>real</td>\n",
       "      <td>460</td>\n",
       "      <td>no</td>\n",
       "      <td>no</td>\n",
       "      <td>yes</td>\n",
       "      <td>male</td>\n",
       "      <td>married</td>\n",
       "      <td>6</td>\n",
       "      <td>13</td>\n",
       "      <td>...</td>\n",
       "      <td>2</td>\n",
       "      <td>11</td>\n",
       "      <td>4</td>\n",
       "      <td>0</td>\n",
       "      <td>0</td>\n",
       "      <td>0</td>\n",
       "      <td>42</td>\n",
       "      <td>2</td>\n",
       "      <td>no</td>\n",
       "      <td>0.2</td>\n",
       "    </tr>\n",
       "    <tr>\n",
       "      <th>7</th>\n",
       "      <td>108</td>\n",
       "      <td>real</td>\n",
       "      <td>534</td>\n",
       "      <td>university</td>\n",
       "      <td>no</td>\n",
       "      <td>yes</td>\n",
       "      <td>male</td>\n",
       "      <td></td>\n",
       "      <td>7</td>\n",
       "      <td>35</td>\n",
       "      <td>...</td>\n",
       "      <td>5</td>\n",
       "      <td>2</td>\n",
       "      <td>1</td>\n",
       "      <td>1</td>\n",
       "      <td>0</td>\n",
       "      <td>0</td>\n",
       "      <td>140</td>\n",
       "      <td>4</td>\n",
       "      <td>no</td>\n",
       "      <td>0.0</td>\n",
       "    </tr>\n",
       "    <tr>\n",
       "      <th>8</th>\n",
       "      <td>109</td>\n",
       "      <td>real</td>\n",
       "      <td>957</td>\n",
       "      <td>university</td>\n",
       "      <td>no</td>\n",
       "      <td>yes</td>\n",
       "      <td>male</td>\n",
       "      <td>alone</td>\n",
       "      <td>32</td>\n",
       "      <td>10</td>\n",
       "      <td>...</td>\n",
       "      <td>10</td>\n",
       "      <td>8</td>\n",
       "      <td>6</td>\n",
       "      <td>1</td>\n",
       "      <td>10</td>\n",
       "      <td>0</td>\n",
       "      <td>130</td>\n",
       "      <td>122</td>\n",
       "      <td>yes</td>\n",
       "      <td>0.1</td>\n",
       "    </tr>\n",
       "    <tr>\n",
       "      <th>9</th>\n",
       "      <td>110</td>\n",
       "      <td>real</td>\n",
       "      <td>452</td>\n",
       "      <td>university</td>\n",
       "      <td>no</td>\n",
       "      <td>yes</td>\n",
       "      <td>male</td>\n",
       "      <td>alone</td>\n",
       "      <td>4</td>\n",
       "      <td>27</td>\n",
       "      <td>...</td>\n",
       "      <td>16</td>\n",
       "      <td>13</td>\n",
       "      <td>5</td>\n",
       "      <td>4</td>\n",
       "      <td>5</td>\n",
       "      <td>0</td>\n",
       "      <td>454</td>\n",
       "      <td>36</td>\n",
       "      <td>yes</td>\n",
       "      <td>0.0</td>\n",
       "    </tr>\n",
       "  </tbody>\n",
       "</table>\n",
       "<p>10 rows × 24 columns</p>\n",
       "</div>"
      ],
      "text/plain": [
       "    ID Status  No Friend    education about me family  gender relationship  \\\n",
       "0  101   real        170   university      yes    yes    male   complicate   \n",
       "1  102   real        353   university      yes    yes    male        alone   \n",
       "2  103   real        517   university       no    yes    male        alone   \n",
       "3  104   real        460   university       no    yes    male        alone   \n",
       "4  105   real        240   university       no    yes  female   complicate   \n",
       "5  106   real        340  high school       no    yes    male   complicate   \n",
       "6  107   real        460           no       no    yes    male      married   \n",
       "7  108   real        534   university       no    yes    male                \n",
       "8  109   real        957   university       no    yes    male        alone   \n",
       "9  110   real        452   university       no    yes    male        alone   \n",
       "\n",
       "   phototag*  photopost*              ...               music  film  series  \\\n",
       "0         29          59              ...                   1     3       6   \n",
       "1          1          13              ...                  11     6      10   \n",
       "2        112         236              ...                   0     8       3   \n",
       "3         74         142              ...                  16    14      17   \n",
       "4         23          13              ...                   0     0       0   \n",
       "5         12         120              ...                   0     0       0   \n",
       "6          6          13              ...                   2    11       4   \n",
       "7          7          35              ...                   5     2       1   \n",
       "8         32          10              ...                  10     8       6   \n",
       "9          4          27              ...                  16    13       5   \n",
       "\n",
       "   book  game  restaurant  like  group  note  post shared/post posted rate  \n",
       "0     0     6           2   101      2   yes                           0.1  \n",
       "1     1     1           6   550     19    no                           0.1  \n",
       "2     1     5          17   318     23   yes                           0.5  \n",
       "3     6    19           0   900     32   yes                           0.3  \n",
       "4     0     0           0    15      2    no                           0.1  \n",
       "5     0     0           0    44      3    no                           0.5  \n",
       "6     0     0           0    42      2    no                           0.2  \n",
       "7     1     0           0   140      4    no                           0.0  \n",
       "8     1    10           0   130    122   yes                           0.1  \n",
       "9     4     5           0   454     36   yes                           0.0  \n",
       "\n",
       "[10 rows x 24 columns]"
      ]
     },
     "execution_count": 2,
     "metadata": {},
     "output_type": "execute_result"
    }
   ],
   "source": [
    "train.head(10)"
   ]
  },
  {
   "cell_type": "markdown",
   "metadata": {},
   "source": [
    "## 변수 선정"
   ]
  },
  {
   "cell_type": "code",
   "execution_count": 3,
   "metadata": {},
   "outputs": [],
   "source": [
    "import matplotlib.pyplot as plt\n",
    "%matplotlib inline\n",
    "import seaborn as sns\n",
    "sns.set()\n",
    "from pandas import DataFrame"
   ]
  },
  {
   "cell_type": "code",
   "execution_count": 4,
   "metadata": {},
   "outputs": [],
   "source": [
    "def bar_chart(feature):\n",
    "    real = train[train['Status']=='real'][feature].value_counts()\n",
    "    fake = train[train['Status']=='fake'][feature].value_counts()\n",
    "    df= pd.DataFrame([real,fake])\n",
    "    df.index=['Real','Fake']\n",
    "    df.plot(kind='bar',stacked=True,figsize=(10,5))"
   ]
  },
  {
   "cell_type": "code",
   "execution_count": 5,
   "metadata": {},
   "outputs": [],
   "source": [
    "train_test_data = [train,test]\n",
    "\n",
    "gender_maping = {\"male\":0,\"female\":1}\n",
    "for dataset in train_test_data:\n",
    "    dataset['gender']= dataset['gender'].map(gender_maping)"
   ]
  },
  {
   "cell_type": "code",
   "execution_count": 6,
   "metadata": {
    "scrolled": true
   },
   "outputs": [
    {
     "data": {
      "image/png": "[encoded data removed]",
      "text/plain": [
       "<Figure size 720x360 with 1 Axes>"
      ]
     },
     "metadata": {
      "needs_background": "light"
     },
     "output_type": "display_data"
    }
   ],
   "source": [
    "bar_chart('gender')"
   ]
  },
  {
   "cell_type": "code",
   "execution_count": 7,
   "metadata": {},
   "outputs": [],
   "source": [
    "train_test_data = [train,test]\n",
    "\n",
    "fam_maping = {\"no\":0,\"yes\":1}\n",
    "for dataset in train_test_data:\n",
    "    dataset['family']= dataset['family'].map(fam_maping)"
   ]
  },
  {
   "cell_type": "code",
   "execution_count": 8,
   "metadata": {
    "scrolled": true
   },
   "outputs": [
    {
     "data": {
      "image/png": "[encoded data removed]",
      "text/plain": [
       "<Figure size 720x360 with 1 Axes>"
      ]
     },
     "metadata": {
      "needs_background": "light"
     },
     "output_type": "display_data"
    }
   ],
   "source": [
    "bar_chart('family')"
   ]
  },
  {
   "cell_type": "code",
   "execution_count": 9,
   "metadata": {},
   "outputs": [],
   "source": [
    "train_test_data = [train,test]\n",
    "\n",
    "Edu_maping = {\"no\":0,\"high school\":1,\"secondary school\":2,\"university\":3}\n",
    "for dataset in train_test_data:\n",
    "    dataset['education']= dataset['education'].map(Edu_maping)"
   ]
  },
  {
   "cell_type": "code",
   "execution_count": 10,
   "metadata": {},
   "outputs": [
    {
     "data": {
      "image/png": "[encoded data removed]",
      "text/plain": [
       "<Figure size 720x360 with 1 Axes>"
      ]
     },
     "metadata": {
      "needs_background": "light"
     },
     "output_type": "display_data"
    }
   ],
   "source": [
    "bar_chart('education')"
   ]
  },
  {
   "cell_type": "code",
   "execution_count": 11,
   "metadata": {},
   "outputs": [],
   "source": [
    "train_test_data = [train,test]\n",
    "\n",
    "relationship_maping = {\"alone\":0,\"married\":1,\"complicate\":2}\n",
    "for dataset in train_test_data:\n",
    "    dataset['relationship']= dataset['relationship'].map(relationship_maping)"
   ]
  },
  {
   "cell_type": "code",
   "execution_count": 12,
   "metadata": {},
   "outputs": [],
   "source": [
    "train['relationship'].fillna(train.groupby('family')['relationship'].transform('median'),inplace=True)\n",
    "test['relationship'].fillna(test.groupby('family')['relationship'].transform('median'),inplace=True)"
   ]
  },
  {
   "cell_type": "code",
   "execution_count": 13,
   "metadata": {},
   "outputs": [
    {
     "data": {
      "image/png": "[encoded data removed]",
      "text/plain": [
       "<Figure size 720x360 with 1 Axes>"
      ]
     },
     "metadata": {
      "needs_background": "light"
     },
     "output_type": "display_data"
    }
   ],
   "source": [
    "bar_chart('relationship')"
   ]
  },
  {
   "cell_type": "code",
   "execution_count": 14,
   "metadata": {
    "scrolled": true
   },
   "outputs": [
    {
     "data": {
      "text/html": [
       "<div>\n",
       "<style scoped>\n",
       "    .dataframe tbody tr th:only-of-type {\n",
       "        vertical-align: middle;\n",
       "    }\n",
       "\n",
       "    .dataframe tbody tr th {\n",
       "        vertical-align: top;\n",
       "    }\n",
       "\n",
       "    .dataframe thead th {\n",
       "        text-align: right;\n",
       "    }\n",
       "</style>\n",
       "<table border=\"1\" class=\"dataframe\">\n",
       "  <thead>\n",
       "    <tr style=\"text-align: right;\">\n",
       "      <th></th>\n",
       "      <th>ID</th>\n",
       "      <th>Status</th>\n",
       "      <th>No Friend</th>\n",
       "      <th>education</th>\n",
       "      <th>about me</th>\n",
       "      <th>family</th>\n",
       "      <th>gender</th>\n",
       "      <th>relationship</th>\n",
       "      <th>phototag*</th>\n",
       "      <th>photopost*</th>\n",
       "      <th>...</th>\n",
       "      <th>music</th>\n",
       "      <th>film</th>\n",
       "      <th>series</th>\n",
       "      <th>book</th>\n",
       "      <th>game</th>\n",
       "      <th>restaurant</th>\n",
       "      <th>like</th>\n",
       "      <th>group</th>\n",
       "      <th>note</th>\n",
       "      <th>post shared/post posted rate</th>\n",
       "    </tr>\n",
       "  </thead>\n",
       "  <tbody>\n",
       "    <tr>\n",
       "      <th>0</th>\n",
       "      <td>101</td>\n",
       "      <td>real</td>\n",
       "      <td>170</td>\n",
       "      <td>3</td>\n",
       "      <td>yes</td>\n",
       "      <td>1</td>\n",
       "      <td>0</td>\n",
       "      <td>2.0</td>\n",
       "      <td>29</td>\n",
       "      <td>59</td>\n",
       "      <td>...</td>\n",
       "      <td>1</td>\n",
       "      <td>3</td>\n",
       "      <td>6</td>\n",
       "      <td>0</td>\n",
       "      <td>6</td>\n",
       "      <td>2</td>\n",
       "      <td>101</td>\n",
       "      <td>2</td>\n",
       "      <td>yes</td>\n",
       "      <td>0.1</td>\n",
       "    </tr>\n",
       "    <tr>\n",
       "      <th>1</th>\n",
       "      <td>102</td>\n",
       "      <td>real</td>\n",
       "      <td>353</td>\n",
       "      <td>3</td>\n",
       "      <td>yes</td>\n",
       "      <td>1</td>\n",
       "      <td>0</td>\n",
       "      <td>0.0</td>\n",
       "      <td>1</td>\n",
       "      <td>13</td>\n",
       "      <td>...</td>\n",
       "      <td>11</td>\n",
       "      <td>6</td>\n",
       "      <td>10</td>\n",
       "      <td>1</td>\n",
       "      <td>1</td>\n",
       "      <td>6</td>\n",
       "      <td>550</td>\n",
       "      <td>19</td>\n",
       "      <td>no</td>\n",
       "      <td>0.1</td>\n",
       "    </tr>\n",
       "    <tr>\n",
       "      <th>2</th>\n",
       "      <td>103</td>\n",
       "      <td>real</td>\n",
       "      <td>517</td>\n",
       "      <td>3</td>\n",
       "      <td>no</td>\n",
       "      <td>1</td>\n",
       "      <td>0</td>\n",
       "      <td>0.0</td>\n",
       "      <td>112</td>\n",
       "      <td>236</td>\n",
       "      <td>...</td>\n",
       "      <td>0</td>\n",
       "      <td>8</td>\n",
       "      <td>3</td>\n",
       "      <td>1</td>\n",
       "      <td>5</td>\n",
       "      <td>17</td>\n",
       "      <td>318</td>\n",
       "      <td>23</td>\n",
       "      <td>yes</td>\n",
       "      <td>0.5</td>\n",
       "    </tr>\n",
       "    <tr>\n",
       "      <th>3</th>\n",
       "      <td>104</td>\n",
       "      <td>real</td>\n",
       "      <td>460</td>\n",
       "      <td>3</td>\n",
       "      <td>no</td>\n",
       "      <td>1</td>\n",
       "      <td>0</td>\n",
       "      <td>0.0</td>\n",
       "      <td>74</td>\n",
       "      <td>142</td>\n",
       "      <td>...</td>\n",
       "      <td>16</td>\n",
       "      <td>14</td>\n",
       "      <td>17</td>\n",
       "      <td>6</td>\n",
       "      <td>19</td>\n",
       "      <td>0</td>\n",
       "      <td>900</td>\n",
       "      <td>32</td>\n",
       "      <td>yes</td>\n",
       "      <td>0.3</td>\n",
       "    </tr>\n",
       "    <tr>\n",
       "      <th>4</th>\n",
       "      <td>105</td>\n",
       "      <td>real</td>\n",
       "      <td>240</td>\n",
       "      <td>3</td>\n",
       "      <td>no</td>\n",
       "      <td>1</td>\n",
       "      <td>1</td>\n",
       "      <td>2.0</td>\n",
       "      <td>23</td>\n",
       "      <td>13</td>\n",
       "      <td>...</td>\n",
       "      <td>0</td>\n",
       "      <td>0</td>\n",
       "      <td>0</td>\n",
       "      <td>0</td>\n",
       "      <td>0</td>\n",
       "      <td>0</td>\n",
       "      <td>15</td>\n",
       "      <td>2</td>\n",
       "      <td>no</td>\n",
       "      <td>0.1</td>\n",
       "    </tr>\n",
       "  </tbody>\n",
       "</table>\n",
       "<p>5 rows × 24 columns</p>\n",
       "</div>"
      ],
      "text/plain": [
       "    ID Status  No Friend  education about me  family  gender  relationship  \\\n",
       "0  101   real        170          3      yes       1       0           2.0   \n",
       "1  102   real        353          3      yes       1       0           0.0   \n",
       "2  103   real        517          3       no       1       0           0.0   \n",
       "3  104   real        460          3       no       1       0           0.0   \n",
       "4  105   real        240          3       no       1       1           2.0   \n",
       "\n",
       "   phototag*  photopost*              ...               music  film  series  \\\n",
       "0         29          59              ...                   1     3       6   \n",
       "1          1          13              ...                  11     6      10   \n",
       "2        112         236              ...                   0     8       3   \n",
       "3         74         142              ...                  16    14      17   \n",
       "4         23          13              ...                   0     0       0   \n",
       "\n",
       "   book  game  restaurant  like  group  note  post shared/post posted rate  \n",
       "0     0     6           2   101      2   yes                           0.1  \n",
       "1     1     1           6   550     19    no                           0.1  \n",
       "2     1     5          17   318     23   yes                           0.5  \n",
       "3     6    19           0   900     32   yes                           0.3  \n",
       "4     0     0           0    15      2    no                           0.1  \n",
       "\n",
       "[5 rows x 24 columns]"
      ]
     },
     "execution_count": 14,
     "metadata": {},
     "output_type": "execute_result"
    }
   ],
   "source": [
    "train.head()"
   ]
  },
  {
   "cell_type": "code",
   "execution_count": 15,
   "metadata": {},
   "outputs": [],
   "source": [
    "train_test_data = [train,test]\n",
    "\n",
    "note_maping = {\"yes\":1,\"no\":0}\n",
    "for dataset in train_test_data:\n",
    "    dataset['note']= dataset['note'].map(note_maping)"
   ]
  },
  {
   "cell_type": "code",
   "execution_count": 16,
   "metadata": {
    "scrolled": false
   },
   "outputs": [
    {
     "data": {
      "image/png": "[encoded data removed]",
      "text/plain": [
       "<Figure size 720x360 with 1 Axes>"
      ]
     },
     "metadata": {
      "needs_background": "light"
     },
     "output_type": "display_data"
    }
   ],
   "source": [
    "bar_chart('note')"
   ]
  },
  {
   "cell_type": "code",
   "execution_count": 17,
   "metadata": {},
   "outputs": [],
   "source": [
    "train_test_data = [train,test]\n",
    "\n",
    "aboutme_maping = {\"yes\":1,\"no\":0}\n",
    "for dataset in train_test_data:\n",
    "    dataset['about me']= dataset['about me'].map(aboutme_maping)"
   ]
  },
  {
   "cell_type": "code",
   "execution_count": 18,
   "metadata": {},
   "outputs": [
    {
     "data": {
      "image/png": "[encoded data removed]",
      "text/plain": [
       "<Figure size 720x360 with 1 Axes>"
      ]
     },
     "metadata": {
      "needs_background": "light"
     },
     "output_type": "display_data"
    }
   ],
   "source": [
    "bar_chart('about me')"
   ]
  },
  {
   "cell_type": "markdown",
   "metadata": {},
   "source": [
    "# 변수제거"
   ]
  },
  {
   "cell_type": "code",
   "execution_count": 19,
   "metadata": {},
   "outputs": [],
   "source": [
    "train.drop('music',axis=1, inplace=True)\n",
    "test.drop('music',axis=1,inplace=True)\n",
    "train.drop('game',axis=1, inplace=True)\n",
    "test.drop('game',axis=1,inplace=True)\n",
    "train.drop('film',axis=1, inplace=True)\n",
    "test.drop('film',axis=1,inplace=True)\n",
    "train.drop('book',axis=1, inplace=True)\n",
    "test.drop('book',axis=1,inplace=True)\n",
    "train.drop('series',axis=1, inplace=True)\n",
    "test.drop('series',axis=1,inplace=True)\n",
    "train.drop('restaurant',axis=1, inplace=True)\n",
    "test.drop('restaurant',axis=1,inplace=True)\n",
    "train.drop('player',axis=1, inplace=True)\n",
    "test.drop('player',axis=1,inplace=True)\n",
    "train.drop('sport',axis=1, inplace=True)\n",
    "test.drop('sport',axis=1,inplace=True)\n",
    "train.drop('group',axis=1, inplace=True)\n",
    "test.drop('group',axis=1,inplace=True)\n",
    "train.drop('video',axis=1, inplace=True)\n",
    "test.drop('video',axis=1,inplace=True)\n",
    "train.drop('post shared/post posted rate',axis=1, inplace=True)\n",
    "test.drop('post shared/post posted rate',axis=1,inplace=True)"
   ]
  },
  {
   "cell_type": "markdown",
   "metadata": {},
   "source": [
    "# 범주형 데이터 변환"
   ]
  },
  {
   "cell_type": "code",
   "execution_count": 20,
   "metadata": {},
   "outputs": [],
   "source": [
    "for dataset in train_test_data:\n",
    "    dataset.loc[ dataset['phototag*']<=20,'phototag*'] = 0,\n",
    "    dataset.loc[(dataset['phototag*']>20) & (dataset['phototag*']<=40),'phototag*'] = 1,\n",
    "    dataset.loc[(dataset['phototag*']>40) & (dataset['phototag*']<=60),'phototag*'] = 2,\n",
    "    dataset.loc[(dataset['phototag*']>60) & (dataset['phototag*']<=80),'phototag*'] = 3,\n",
    "    dataset.loc[(dataset['phototag*']>80) & (dataset['phototag*']<=100),'phototag*'] = 4,\n",
    "    dataset.loc[(dataset['phototag*']>100) & (dataset['phototag*']<=150),'phototag*'] = 5,\n",
    "    dataset.loc[(dataset['phototag*']>150) & (dataset['phototag*']<=200),'phototag*'] = 6,\n",
    "    dataset.loc[(dataset['phototag*']>200) & (dataset['phototag*']<=250),'phototag*'] = 7,\n",
    "    dataset.loc[(dataset['phototag*']>250) & (dataset['phototag*']<=300),'phototag*'] = 8,\n",
    "    dataset.loc[(dataset['phototag*']>300) & (dataset['phototag*']<=350),'phototag*'] = 9,\n",
    "    dataset.loc[(dataset['phototag*']>350) & (dataset['phototag*']<=400),'phototag*'] = 10,\n",
    "    dataset.loc[(dataset['phototag*']>400),'phototag*'] = 11"
   ]
  },
  {
   "cell_type": "code",
   "execution_count": 21,
   "metadata": {},
   "outputs": [],
   "source": [
    "for dataset in train_test_data:\n",
    "    dataset.loc[ dataset['photopost*']<=20,'photopost*'] = 0,\n",
    "    dataset.loc[(dataset['photopost*']>20) & (dataset['photopost*']<=40),'photopost*'] = 1,\n",
    "    dataset.loc[(dataset['photopost*']>40) & (dataset['photopost*']<=60),'photopost*'] = 2,\n",
    "    dataset.loc[(dataset['photopost*']>60) & (dataset['photopost*']<=80),'photopost*'] = 3,\n",
    "    dataset.loc[(dataset['photopost*']>80) & (dataset['photopost*']<=100),'photopost*'] = 4,\n",
    "    dataset.loc[(dataset['photopost*']>100) & (dataset['photopost*']<=150),'photopost*'] = 5,\n",
    "    dataset.loc[(dataset['photopost*']>150) & (dataset['photopost*']<=200),'photopost*'] = 6,\n",
    "    dataset.loc[(dataset['photopost*']>200) & (dataset['photopost*']<=250),'photopost*'] = 7,\n",
    "    dataset.loc[(dataset['photopost*']>250) & (dataset['photopost*']<=300),'photopost*'] = 8,\n",
    "    dataset.loc[(dataset['photopost*']>300) & (dataset['photopost*']<=350),'photopost*'] = 9,\n",
    "    dataset.loc[(dataset['photopost*']>350) & (dataset['photopost*']<=400),'photopost*'] = 10,\n",
    "    dataset.loc[(dataset['photopost*']>400),'photopost*'] = 11"
   ]
  },
  {
   "cell_type": "code",
   "execution_count": 22,
   "metadata": {},
   "outputs": [],
   "source": [
    "for dataset in train_test_data:\n",
    "    dataset.loc[ dataset['checkin']<=20,'checkin'] = 0,\n",
    "    dataset.loc[(dataset['checkin']>20) & (dataset['checkin']<=40),'checkin'] = 1,\n",
    "    dataset.loc[(dataset['checkin']>40) & (dataset['checkin']<=60),'checkin'] = 2,\n",
    "    dataset.loc[(dataset['checkin']>60) & (dataset['checkin']<=80),'checkin'] = 3,\n",
    "    dataset.loc[(dataset['checkin']>80) & (dataset['checkin']<=100),'checkin'] = 4,\n",
    "    dataset.loc[(dataset['checkin']>100) & (dataset['checkin']<=150),'checkin'] = 5"
   ]
  },
  {
   "cell_type": "code",
   "execution_count": 23,
   "metadata": {},
   "outputs": [
    {
     "data": {
      "image/png": "[encoded data removed]",
      "text/plain": [
       "<Figure size 720x360 with 1 Axes>"
      ]
     },
     "metadata": {
      "needs_background": "light"
     },
     "output_type": "display_data"
    }
   ],
   "source": [
    "bar_chart('checkin')"
   ]
  },
  {
   "cell_type": "code",
   "execution_count": 24,
   "metadata": {
    "scrolled": true
   },
   "outputs": [
    {
     "name": "stderr",
     "output_type": "stream",
     "text": [
      "C:\\Users\\user\\Anaconda3\\lib\\site-packages\\scipy\\stats\\stats.py:1713: FutureWarning: Using a non-tuple sequence for multidimensional indexing is deprecated; use `arr[tuple(seq)]` instead of `arr[seq]`. In the future this will be interpreted as an array index, `arr[np.array(seq)]`, which will result either in an error or a different result.\n",
      "  return np.add.reduce(sorted[indexer] * weights, axis=axis) / sumval\n"
     ]
    },
    {
     "data": {
      "image/png": "[encoded data removed]",
      "text/plain": [
       "<Figure size 708.475x216 with 1 Axes>"
      ]
     },
     "metadata": {
      "needs_background": "light"
     },
     "output_type": "display_data"
    }
   ],
   "source": [
    "facet = sns.FacetGrid(train, hue='Status',aspect=3)\n",
    "facet.map(sns.kdeplot,'checkin',shade=True)\n",
    "facet.set(xlim=(train['checkin'].min(),train['checkin'].max()))\n",
    "facet.add_legend()\n",
    "plt.xlim(0,30)\n",
    "plt.show()"
   ]
  },
  {
   "cell_type": "code",
   "execution_count": 25,
   "metadata": {},
   "outputs": [
    {
     "name": "stderr",
     "output_type": "stream",
     "text": [
      "C:\\Users\\user\\Anaconda3\\lib\\site-packages\\scipy\\stats\\stats.py:1713: FutureWarning: Using a non-tuple sequence for multidimensional indexing is deprecated; use `arr[tuple(seq)]` instead of `arr[seq]`. In the future this will be interpreted as an array index, `arr[np.array(seq)]`, which will result either in an error or a different result.\n",
      "  return np.add.reduce(sorted[indexer] * weights, axis=axis) / sumval\n"
     ]
    },
    {
     "data": {
      "image/png": "[encoded data removed]",
      "text/plain": [
       "<Figure size 924.475x216 with 1 Axes>"
      ]
     },
     "metadata": {
      "needs_background": "light"
     },
     "output_type": "display_data"
    }
   ],
   "source": [
    "facet = sns.FacetGrid(train, hue='Status',aspect=4)\n",
    "facet.map(sns.kdeplot,'photopost*',shade=True)\n",
    "facet.set(xlim=(train['photopost*'].min(),train['photopost*'].max()))\n",
    "facet.add_legend()\n",
    "\n",
    "plt.show()"
   ]
  },
  {
   "cell_type": "code",
   "execution_count": 26,
   "metadata": {},
   "outputs": [
    {
     "data": {
      "image/png": "[encoded data removed]",
      "text/plain": [
       "<Figure size 720x360 with 1 Axes>"
      ]
     },
     "metadata": {
      "needs_background": "light"
     },
     "output_type": "display_data"
    }
   ],
   "source": [
    "bar_chart('phototag*')"
   ]
  },
  {
   "cell_type": "code",
   "execution_count": 27,
   "metadata": {},
   "outputs": [
    {
     "name": "stderr",
     "output_type": "stream",
     "text": [
      "C:\\Users\\user\\Anaconda3\\lib\\site-packages\\scipy\\stats\\stats.py:1713: FutureWarning: Using a non-tuple sequence for multidimensional indexing is deprecated; use `arr[tuple(seq)]` instead of `arr[seq]`. In the future this will be interpreted as an array index, `arr[np.array(seq)]`, which will result either in an error or a different result.\n",
      "  return np.add.reduce(sorted[indexer] * weights, axis=axis) / sumval\n",
      "C:\\Users\\user\\Anaconda3\\lib\\site-packages\\statsmodels\\nonparametric\\kde.py:488: RuntimeWarning: invalid value encountered in true_divide\n",
      "  binned = fast_linbin(X, a, b, gridsize) / (delta * nobs)\n",
      "C:\\Users\\user\\Anaconda3\\lib\\site-packages\\statsmodels\\nonparametric\\kdetools.py:34: RuntimeWarning: invalid value encountered in double_scalars\n",
      "  FAC1 = 2*(np.pi*bw/RANGE)**2\n",
      "C:\\Users\\user\\Anaconda3\\lib\\site-packages\\numpy\\core\\fromnumeric.py:83: RuntimeWarning: invalid value encountered in reduce\n",
      "  return ufunc.reduce(obj, axis, dtype, out, **passkwargs)\n"
     ]
    },
    {
     "data": {
      "image/png": "[encoded data removed]",
      "text/plain": [
       "<Figure size 924.475x216 with 1 Axes>"
      ]
     },
     "metadata": {
      "needs_background": "light"
     },
     "output_type": "display_data"
    }
   ],
   "source": [
    "facet = sns.FacetGrid(train, hue='Status',aspect=4)\n",
    "facet.map(sns.kdeplot,'phototag*',shade=True)\n",
    "facet.set(xlim=(train['phototag*'].min(),train['phototag*'].max()))\n",
    "facet.add_legend()\n",
    "\n",
    "plt.show()"
   ]
  },
  {
   "cell_type": "code",
   "execution_count": 28,
   "metadata": {},
   "outputs": [],
   "source": [
    "for dataset in train_test_data:\n",
    "    dataset.loc[ dataset['like']<=20,'like'] = 0,\n",
    "    dataset.loc[(dataset['like']>20) & (dataset['like']<=40),'like'] = 1,\n",
    "    dataset.loc[(dataset['like']>40) & (dataset['like']<=60),'like'] = 2,\n",
    "    dataset.loc[(dataset['like']>60) & (dataset['like']<=80),'like'] = 3,\n",
    "    dataset.loc[(dataset['like']>80) & (dataset['like']<=100),'like'] = 4\n",
    "    dataset.loc[(dataset['like']>100) & (dataset['like']<=150),'like'] = 5,\n",
    "    dataset.loc[(dataset['like']>150) & (dataset['like']<=200),'like'] = 6,\n",
    "    dataset.loc[(dataset['like']>200) & (dataset['like']<=250),'like'] = 7,\n",
    "    dataset.loc[(dataset['like']>250) & (dataset['like']<=300),'like'] = 8,\n",
    "    dataset.loc[(dataset['like']>300) & (dataset['like']<=350),'like'] = 9,\n",
    "    dataset.loc[(dataset['like']>350) & (dataset['like']<=400),'like'] = 10,\n",
    "    dataset.loc[(dataset['like']>400) & (dataset['like']<=450),'like'] = 11,\n",
    "    dataset.loc[(dataset['like']>450) & (dataset['like']<=500),'like'] = 12,\n",
    "    dataset.loc[(dataset['like']>500) & (dataset['like']<=550),'like'] = 13,\n",
    "    dataset.loc[(dataset['like']>550) & (dataset['like']<=600),'like'] = 14,\n",
    "    dataset.loc[(dataset['like']>600) & (dataset['like']<=650),'like'] = 15,\n",
    "    dataset.loc[(dataset['like']>650) & (dataset['like']<=700),'like'] = 16,\n",
    "    dataset.loc[(dataset['like']>700) & (dataset['like']<=750),'like'] = 17,\n",
    "    dataset.loc[(dataset['like']>750) & (dataset['like']<=800),'like'] = 18,\n",
    "    dataset.loc[(dataset['like']>800) & (dataset['like']<=850),'like'] = 19,\n",
    "    dataset.loc[(dataset['like']>850) & (dataset['like']<=900),'like'] = 20,\n",
    "    dataset.loc[(dataset['like']>900) & (dataset['like']<=950),'like'] = 21,\n",
    "    dataset.loc[(dataset['like']>950) & (dataset['like']<=1000),'like'] = 22,\n",
    "    dataset.loc[(dataset['like']>1000) & (dataset['like']<=2000),'like'] = 23,\n",
    "    dataset.loc[(dataset['like']>2000),'like'] = 24"
   ]
  },
  {
   "cell_type": "code",
   "execution_count": 29,
   "metadata": {},
   "outputs": [
    {
     "name": "stderr",
     "output_type": "stream",
     "text": [
      "C:\\Users\\user\\Anaconda3\\lib\\site-packages\\scipy\\stats\\stats.py:1713: FutureWarning: Using a non-tuple sequence for multidimensional indexing is deprecated; use `arr[tuple(seq)]` instead of `arr[seq]`. In the future this will be interpreted as an array index, `arr[np.array(seq)]`, which will result either in an error or a different result.\n",
      "  return np.add.reduce(sorted[indexer] * weights, axis=axis) / sumval\n"
     ]
    },
    {
     "data": {
      "image/png": "[encoded data removed]",
      "text/plain": [
       "<Figure size 924.475x216 with 1 Axes>"
      ]
     },
     "metadata": {
      "needs_background": "light"
     },
     "output_type": "display_data"
    }
   ],
   "source": [
    "facet = sns.FacetGrid(train, hue='Status',aspect=4)\n",
    "facet.map(sns.kdeplot,'like',shade=True)\n",
    "facet.set(xlim=(train['like'].min(),train['like'].max()))\n",
    "facet.add_legend()\n",
    "\n",
    "plt.show()"
   ]
  },
  {
   "cell_type": "code",
   "execution_count": 30,
   "metadata": {},
   "outputs": [
    {
     "name": "stderr",
     "output_type": "stream",
     "text": [
      "C:\\Users\\user\\Anaconda3\\lib\\site-packages\\scipy\\stats\\stats.py:1713: FutureWarning: Using a non-tuple sequence for multidimensional indexing is deprecated; use `arr[tuple(seq)]` instead of `arr[seq]`. In the future this will be interpreted as an array index, `arr[np.array(seq)]`, which will result either in an error or a different result.\n",
      "  return np.add.reduce(sorted[indexer] * weights, axis=axis) / sumval\n"
     ]
    },
    {
     "data": {
      "image/png": "[encoded data removed]",
      "text/plain": [
       "<Figure size 924.475x216 with 1 Axes>"
      ]
     },
     "metadata": {
      "needs_background": "light"
     },
     "output_type": "display_data"
    }
   ],
   "source": [
    "facet = sns.FacetGrid(train, hue='Status',aspect=4)\n",
    "facet.map(sns.kdeplot,'like',shade=True)\n",
    "facet.add_legend()\n",
    "plt.xlim(0,70)\n",
    "plt.show()"
   ]
  },
  {
   "cell_type": "code",
   "execution_count": 31,
   "metadata": {},
   "outputs": [],
   "source": [
    "for dataset in train_test_data:\n",
    "    dataset.loc[ dataset['No Friend']<=20,'No Friend'] = 0,\n",
    "    dataset.loc[(dataset['No Friend']>20) & (dataset['No Friend']<=100),'No Friend'] = 1,\n",
    "    dataset.loc[(dataset['No Friend']>100) & (dataset['No Friend']<=200),'No Friend'] = 2,\n",
    "    dataset.loc[(dataset['No Friend']>200) & (dataset['No Friend']<=300),'No Friend'] = 3,\n",
    "    dataset.loc[(dataset['No Friend']>300) & (dataset['No Friend']<=400),'No Friend'] = 4,\n",
    "    dataset.loc[(dataset['No Friend']>400) & (dataset['No Friend']<=500),'No Friend'] = 5,\n",
    "    dataset.loc[(dataset['No Friend']>500) & (dataset['No Friend']<=600),'No Friend'] = 6,\n",
    "    dataset.loc[(dataset['No Friend']>600) & (dataset['No Friend']<=700),'No Friend'] = 7,\n",
    "    dataset.loc[(dataset['No Friend']>700) & (dataset['No Friend']<=800),'No Friend'] = 8,\n",
    "    dataset.loc[(dataset['No Friend']>800) & (dataset['No Friend']<=900),'No Friend'] = 9,\n",
    "    dataset.loc[(dataset['No Friend']>900) & (dataset['No Friend']<=1000),'No Friend'] = 10,\n",
    "    dataset.loc[(dataset['No Friend']>1000),'No Friend'] = 11"
   ]
  },
  {
   "cell_type": "code",
   "execution_count": 32,
   "metadata": {},
   "outputs": [
    {
     "name": "stderr",
     "output_type": "stream",
     "text": [
      "C:\\Users\\user\\Anaconda3\\lib\\site-packages\\scipy\\stats\\stats.py:1713: FutureWarning: Using a non-tuple sequence for multidimensional indexing is deprecated; use `arr[tuple(seq)]` instead of `arr[seq]`. In the future this will be interpreted as an array index, `arr[np.array(seq)]`, which will result either in an error or a different result.\n",
      "  return np.add.reduce(sorted[indexer] * weights, axis=axis) / sumval\n"
     ]
    },
    {
     "data": {
      "image/png": "[encoded data removed]",
      "text/plain": [
       "<Figure size 492.475x216 with 1 Axes>"
      ]
     },
     "metadata": {
      "needs_background": "light"
     },
     "output_type": "display_data"
    }
   ],
   "source": [
    "facet = sns.FacetGrid(train, hue='Status',aspect=2)\n",
    "facet.map(sns.kdeplot,'No Friend',shade=True)\n",
    "facet.add_legend()\n",
    "plt.xlim(0,70)\n",
    "plt.show()"
   ]
  },
  {
   "cell_type": "code",
   "execution_count": 33,
   "metadata": {},
   "outputs": [
    {
     "data": {
      "text/html": [
       "<div>\n",
       "<style scoped>\n",
       "    .dataframe tbody tr th:only-of-type {\n",
       "        vertical-align: middle;\n",
       "    }\n",
       "\n",
       "    .dataframe tbody tr th {\n",
       "        vertical-align: top;\n",
       "    }\n",
       "\n",
       "    .dataframe thead th {\n",
       "        text-align: right;\n",
       "    }\n",
       "</style>\n",
       "<table border=\"1\" class=\"dataframe\">\n",
       "  <thead>\n",
       "    <tr style=\"text-align: right;\">\n",
       "      <th></th>\n",
       "      <th>ID</th>\n",
       "      <th>Status</th>\n",
       "      <th>No Friend</th>\n",
       "      <th>education</th>\n",
       "      <th>about me</th>\n",
       "      <th>family</th>\n",
       "      <th>gender</th>\n",
       "      <th>relationship</th>\n",
       "      <th>phototag*</th>\n",
       "      <th>photopost*</th>\n",
       "      <th>checkin</th>\n",
       "      <th>like</th>\n",
       "      <th>note</th>\n",
       "    </tr>\n",
       "  </thead>\n",
       "  <tbody>\n",
       "    <tr>\n",
       "      <th>0</th>\n",
       "      <td>101</td>\n",
       "      <td>real</td>\n",
       "      <td>2</td>\n",
       "      <td>3</td>\n",
       "      <td>1</td>\n",
       "      <td>1</td>\n",
       "      <td>0</td>\n",
       "      <td>2.0</td>\n",
       "      <td>1</td>\n",
       "      <td>2</td>\n",
       "      <td>0</td>\n",
       "      <td>5</td>\n",
       "      <td>1</td>\n",
       "    </tr>\n",
       "    <tr>\n",
       "      <th>1</th>\n",
       "      <td>102</td>\n",
       "      <td>real</td>\n",
       "      <td>4</td>\n",
       "      <td>3</td>\n",
       "      <td>1</td>\n",
       "      <td>1</td>\n",
       "      <td>0</td>\n",
       "      <td>0.0</td>\n",
       "      <td>0</td>\n",
       "      <td>0</td>\n",
       "      <td>0</td>\n",
       "      <td>13</td>\n",
       "      <td>0</td>\n",
       "    </tr>\n",
       "    <tr>\n",
       "      <th>2</th>\n",
       "      <td>103</td>\n",
       "      <td>real</td>\n",
       "      <td>6</td>\n",
       "      <td>3</td>\n",
       "      <td>0</td>\n",
       "      <td>1</td>\n",
       "      <td>0</td>\n",
       "      <td>0.0</td>\n",
       "      <td>5</td>\n",
       "      <td>7</td>\n",
       "      <td>4</td>\n",
       "      <td>9</td>\n",
       "      <td>1</td>\n",
       "    </tr>\n",
       "    <tr>\n",
       "      <th>3</th>\n",
       "      <td>104</td>\n",
       "      <td>real</td>\n",
       "      <td>5</td>\n",
       "      <td>3</td>\n",
       "      <td>0</td>\n",
       "      <td>1</td>\n",
       "      <td>0</td>\n",
       "      <td>0.0</td>\n",
       "      <td>3</td>\n",
       "      <td>5</td>\n",
       "      <td>4</td>\n",
       "      <td>20</td>\n",
       "      <td>1</td>\n",
       "    </tr>\n",
       "    <tr>\n",
       "      <th>4</th>\n",
       "      <td>105</td>\n",
       "      <td>real</td>\n",
       "      <td>3</td>\n",
       "      <td>3</td>\n",
       "      <td>0</td>\n",
       "      <td>1</td>\n",
       "      <td>1</td>\n",
       "      <td>2.0</td>\n",
       "      <td>1</td>\n",
       "      <td>0</td>\n",
       "      <td>0</td>\n",
       "      <td>0</td>\n",
       "      <td>0</td>\n",
       "    </tr>\n",
       "    <tr>\n",
       "      <th>5</th>\n",
       "      <td>106</td>\n",
       "      <td>real</td>\n",
       "      <td>4</td>\n",
       "      <td>1</td>\n",
       "      <td>0</td>\n",
       "      <td>1</td>\n",
       "      <td>0</td>\n",
       "      <td>2.0</td>\n",
       "      <td>0</td>\n",
       "      <td>5</td>\n",
       "      <td>1</td>\n",
       "      <td>2</td>\n",
       "      <td>0</td>\n",
       "    </tr>\n",
       "    <tr>\n",
       "      <th>6</th>\n",
       "      <td>107</td>\n",
       "      <td>real</td>\n",
       "      <td>5</td>\n",
       "      <td>0</td>\n",
       "      <td>0</td>\n",
       "      <td>1</td>\n",
       "      <td>0</td>\n",
       "      <td>1.0</td>\n",
       "      <td>0</td>\n",
       "      <td>0</td>\n",
       "      <td>0</td>\n",
       "      <td>2</td>\n",
       "      <td>0</td>\n",
       "    </tr>\n",
       "    <tr>\n",
       "      <th>7</th>\n",
       "      <td>108</td>\n",
       "      <td>real</td>\n",
       "      <td>6</td>\n",
       "      <td>3</td>\n",
       "      <td>0</td>\n",
       "      <td>1</td>\n",
       "      <td>0</td>\n",
       "      <td>0.0</td>\n",
       "      <td>0</td>\n",
       "      <td>1</td>\n",
       "      <td>1</td>\n",
       "      <td>5</td>\n",
       "      <td>0</td>\n",
       "    </tr>\n",
       "    <tr>\n",
       "      <th>8</th>\n",
       "      <td>109</td>\n",
       "      <td>real</td>\n",
       "      <td>10</td>\n",
       "      <td>3</td>\n",
       "      <td>0</td>\n",
       "      <td>1</td>\n",
       "      <td>0</td>\n",
       "      <td>0.0</td>\n",
       "      <td>1</td>\n",
       "      <td>0</td>\n",
       "      <td>2</td>\n",
       "      <td>5</td>\n",
       "      <td>1</td>\n",
       "    </tr>\n",
       "    <tr>\n",
       "      <th>9</th>\n",
       "      <td>110</td>\n",
       "      <td>real</td>\n",
       "      <td>5</td>\n",
       "      <td>3</td>\n",
       "      <td>0</td>\n",
       "      <td>1</td>\n",
       "      <td>0</td>\n",
       "      <td>0.0</td>\n",
       "      <td>0</td>\n",
       "      <td>1</td>\n",
       "      <td>1</td>\n",
       "      <td>12</td>\n",
       "      <td>1</td>\n",
       "    </tr>\n",
       "  </tbody>\n",
       "</table>\n",
       "</div>"
      ],
      "text/plain": [
       "    ID Status  No Friend  education  about me  family  gender  relationship  \\\n",
       "0  101   real          2          3         1       1       0           2.0   \n",
       "1  102   real          4          3         1       1       0           0.0   \n",
       "2  103   real          6          3         0       1       0           0.0   \n",
       "3  104   real          5          3         0       1       0           0.0   \n",
       "4  105   real          3          3         0       1       1           2.0   \n",
       "5  106   real          4          1         0       1       0           2.0   \n",
       "6  107   real          5          0         0       1       0           1.0   \n",
       "7  108   real          6          3         0       1       0           0.0   \n",
       "8  109   real         10          3         0       1       0           0.0   \n",
       "9  110   real          5          3         0       1       0           0.0   \n",
       "\n",
       "   phototag*  photopost*  checkin  like  note  \n",
       "0          1           2        0     5     1  \n",
       "1          0           0        0    13     0  \n",
       "2          5           7        4     9     1  \n",
       "3          3           5        4    20     1  \n",
       "4          1           0        0     0     0  \n",
       "5          0           5        1     2     0  \n",
       "6          0           0        0     2     0  \n",
       "7          0           1        1     5     0  \n",
       "8          1           0        2     5     1  \n",
       "9          0           1        1    12     1  "
      ]
     },
     "execution_count": 33,
     "metadata": {},
     "output_type": "execute_result"
    }
   ],
   "source": [
    "train.head(10)"
   ]
  },
  {
   "cell_type": "markdown",
   "metadata": {},
   "source": [
    "## TRAINING"
   ]
  },
  {
   "cell_type": "code",
   "execution_count": 34,
   "metadata": {},
   "outputs": [],
   "source": [
    "train=train.drop(['ID'],axis=1)"
   ]
  },
  {
   "cell_type": "code",
   "execution_count": 35,
   "metadata": {},
   "outputs": [
    {
     "data": {
      "text/plain": [
       "((666, 11), (666,))"
      ]
     },
     "execution_count": 35,
     "metadata": {},
     "output_type": "execute_result"
    }
   ],
   "source": [
    "train_data= train.drop('Status',axis=1)\n",
    "target=train['Status']\n",
    "\n",
    "train_data.shape,target.shape"
   ]
  },
  {
   "cell_type": "code",
   "execution_count": 36,
   "metadata": {},
   "outputs": [
    {
     "name": "stderr",
     "output_type": "stream",
     "text": [
      "C:\\Users\\user\\Anaconda3\\lib\\site-packages\\sklearn\\ensemble\\weight_boosting.py:29: DeprecationWarning: numpy.core.umath_tests is an internal NumPy module and should not be imported. It will be removed in a future NumPy release.\n",
      "  from numpy.core.umath_tests import inner1d\n"
     ]
    }
   ],
   "source": [
    "from sklearn.neighbors import KNeighborsClassifier\n",
    "from sklearn.tree import DecisionTreeClassifier\n",
    "from sklearn.ensemble import RandomForestClassifier\n",
    "from sklearn.naive_bayes import GaussianNB\n",
    "from sklearn.svm import SVC\n",
    "\n",
    "import numpy as np"
   ]
  },
  {
   "cell_type": "code",
   "execution_count": 37,
   "metadata": {},
   "outputs": [],
   "source": [
    "from sklearn.model_selection import KFold\n",
    "from sklearn.model_selection import cross_val_score\n",
    "k_fold = KFold(n_splits=10, shuffle=True,random_state=0)"
   ]
  },
  {
   "cell_type": "markdown",
   "metadata": {},
   "source": [
    "## kNN"
   ]
  },
  {
   "cell_type": "code",
   "execution_count": 38,
   "metadata": {},
   "outputs": [
    {
     "name": "stdout",
     "output_type": "stream",
     "text": [
      "[0.8358209  0.91044776 0.8358209  0.79104478 0.86567164 0.8358209\n",
      " 0.81818182 0.78787879 0.89393939 0.86363636]\n"
     ]
    }
   ],
   "source": [
    "clf= KNeighborsClassifier(n_neighbors=13)\n",
    "scoring = 'accuracy'\n",
    "score = cross_val_score(clf,train_data,target,cv=k_fold,n_jobs=1,scoring=scoring)\n",
    "print(score)"
   ]
  },
  {
   "cell_type": "code",
   "execution_count": 39,
   "metadata": {},
   "outputs": [
    {
     "data": {
      "text/plain": [
       "84.38"
      ]
     },
     "execution_count": 39,
     "metadata": {},
     "output_type": "execute_result"
    }
   ],
   "source": [
    "round(np.mean(score)*100,2)"
   ]
  },
  {
   "cell_type": "markdown",
   "metadata": {},
   "source": [
    "## Decision Tree"
   ]
  },
  {
   "cell_type": "code",
   "execution_count": 40,
   "metadata": {},
   "outputs": [
    {
     "name": "stdout",
     "output_type": "stream",
     "text": [
      "[0.94029851 0.92537313 0.94029851 0.91044776 0.97014925 0.95522388\n",
      " 0.92424242 0.90909091 0.92424242 0.93939394]\n"
     ]
    }
   ],
   "source": [
    "clf = DecisionTreeClassifier()\n",
    "scoring = 'accuracy'\n",
    "score = cross_val_score(clf,train_data,target,cv=k_fold,n_jobs=1,scoring=scoring)\n",
    "print(score)"
   ]
  },
  {
   "cell_type": "code",
   "execution_count": 41,
   "metadata": {},
   "outputs": [
    {
     "data": {
      "text/plain": [
       "93.39"
      ]
     },
     "execution_count": 41,
     "metadata": {},
     "output_type": "execute_result"
    }
   ],
   "source": [
    "round(np.mean(score)*100,2)"
   ]
  },
  {
   "cell_type": "markdown",
   "metadata": {},
   "source": [
    "## Random Forest"
   ]
  },
  {
   "cell_type": "code",
   "execution_count": 42,
   "metadata": {},
   "outputs": [
    {
     "name": "stdout",
     "output_type": "stream",
     "text": [
      "[0.94029851 0.92537313 0.98507463 0.91044776 0.97014925 0.95522388\n",
      " 0.90909091 0.90909091 0.93939394 0.98484848]\n"
     ]
    }
   ],
   "source": [
    "clf = RandomForestClassifier(n_estimators=13)\n",
    "scoring = 'accuracy'\n",
    "score = cross_val_score(clf,train_data,target,cv=k_fold,n_jobs=1,scoring=scoring)\n",
    "print(score)"
   ]
  },
  {
   "cell_type": "code",
   "execution_count": 43,
   "metadata": {},
   "outputs": [
    {
     "data": {
      "text/plain": [
       "94.29"
      ]
     },
     "execution_count": 43,
     "metadata": {},
     "output_type": "execute_result"
    }
   ],
   "source": [
    "round(np.mean(score)*100,2)"
   ]
  },
  {
   "cell_type": "markdown",
   "metadata": {},
   "source": [
    "## Naive Bayes"
   ]
  },
  {
   "cell_type": "code",
   "execution_count": 44,
   "metadata": {},
   "outputs": [
    {
     "name": "stdout",
     "output_type": "stream",
     "text": [
      "[0.76119403 0.7761194  0.82089552 0.76119403 0.80597015 0.8358209\n",
      " 0.78787879 0.72727273 0.89393939 0.78787879]\n"
     ]
    }
   ],
   "source": [
    "clf = GaussianNB()\n",
    "scoring = 'accuracy'\n",
    "score = cross_val_score(clf,train_data,target,cv=k_fold,n_jobs=1,scoring=scoring)\n",
    "print(score)"
   ]
  },
  {
   "cell_type": "code",
   "execution_count": 45,
   "metadata": {},
   "outputs": [
    {
     "data": {
      "text/plain": [
       "79.58"
      ]
     },
     "execution_count": 45,
     "metadata": {},
     "output_type": "execute_result"
    }
   ],
   "source": [
    "round(np.mean(score)*100,2)"
   ]
  },
  {
   "cell_type": "markdown",
   "metadata": {},
   "source": [
    "## SVM"
   ]
  },
  {
   "cell_type": "code",
   "execution_count": 46,
   "metadata": {},
   "outputs": [
    {
     "name": "stdout",
     "output_type": "stream",
     "text": [
      "[0.91044776 0.95522388 0.91044776 0.8358209  0.94029851 0.94029851\n",
      " 0.90909091 0.84848485 0.89393939 0.93939394]\n"
     ]
    }
   ],
   "source": [
    "clf = SVC()\n",
    "scoring = 'accuracy'\n",
    "score = cross_val_score(clf,train_data,target,cv=k_fold,n_jobs=1,scoring=scoring)\n",
    "print(score)"
   ]
  },
  {
   "cell_type": "code",
   "execution_count": 47,
   "metadata": {},
   "outputs": [
    {
     "data": {
      "text/plain": [
       "90.83"
      ]
     },
     "execution_count": 47,
     "metadata": {},
     "output_type": "execute_result"
    }
   ],
   "source": [
    "round(np.mean(score)*100,2)"
   ]
  },
  {
   "cell_type": "markdown",
   "metadata": {},
   "source": [
    "# Testing SVM  #83%"
   ]
  },
  {
   "cell_type": "code",
   "execution_count": 48,
   "metadata": {},
   "outputs": [],
   "source": [
    "clf=SVC()\n",
    "clf.fit(train_data, target)\n",
    "\n",
    "test_data= test.drop('ID',axis=1).copy()\n",
    "prediction= clf.predict(test_data)"
   ]
  },
  {
   "cell_type": "code",
   "execution_count": 49,
   "metadata": {},
   "outputs": [],
   "source": [
    "submission= pd.DataFrame({\n",
    "    'ID': test['ID'],\n",
    "    'Status':prediction\n",
    "})\n",
    "\n",
    "submission.to_csv('Status_SVM.csv',index=False)"
   ]
  },
  {
   "cell_type": "code",
   "execution_count": 50,
   "metadata": {},
   "outputs": [
    {
     "data": {
      "text/html": [
       "<div>\n",
       "<style scoped>\n",
       "    .dataframe tbody tr th:only-of-type {\n",
       "        vertical-align: middle;\n",
       "    }\n",
       "\n",
       "    .dataframe tbody tr th {\n",
       "        vertical-align: top;\n",
       "    }\n",
       "\n",
       "    .dataframe thead th {\n",
       "        text-align: right;\n",
       "    }\n",
       "</style>\n",
       "<table border=\"1\" class=\"dataframe\">\n",
       "  <thead>\n",
       "    <tr style=\"text-align: right;\">\n",
       "      <th></th>\n",
       "      <th>ID</th>\n",
       "      <th>Status</th>\n",
       "    </tr>\n",
       "  </thead>\n",
       "  <tbody>\n",
       "    <tr>\n",
       "      <th>0</th>\n",
       "      <td>1000</td>\n",
       "      <td>real</td>\n",
       "    </tr>\n",
       "    <tr>\n",
       "      <th>1</th>\n",
       "      <td>1001</td>\n",
       "      <td>real</td>\n",
       "    </tr>\n",
       "    <tr>\n",
       "      <th>2</th>\n",
       "      <td>1002</td>\n",
       "      <td>real</td>\n",
       "    </tr>\n",
       "    <tr>\n",
       "      <th>3</th>\n",
       "      <td>1003</td>\n",
       "      <td>fake</td>\n",
       "    </tr>\n",
       "    <tr>\n",
       "      <th>4</th>\n",
       "      <td>1004</td>\n",
       "      <td>fake</td>\n",
       "    </tr>\n",
       "    <tr>\n",
       "      <th>5</th>\n",
       "      <td>1005</td>\n",
       "      <td>fake</td>\n",
       "    </tr>\n",
       "    <tr>\n",
       "      <th>6</th>\n",
       "      <td>1006</td>\n",
       "      <td>fake</td>\n",
       "    </tr>\n",
       "    <tr>\n",
       "      <th>7</th>\n",
       "      <td>1007</td>\n",
       "      <td>real</td>\n",
       "    </tr>\n",
       "    <tr>\n",
       "      <th>8</th>\n",
       "      <td>1008</td>\n",
       "      <td>real</td>\n",
       "    </tr>\n",
       "    <tr>\n",
       "      <th>9</th>\n",
       "      <td>1009</td>\n",
       "      <td>real</td>\n",
       "    </tr>\n",
       "  </tbody>\n",
       "</table>\n",
       "</div>"
      ],
      "text/plain": [
       "     ID Status\n",
       "0  1000   real\n",
       "1  1001   real\n",
       "2  1002   real\n",
       "3  1003   fake\n",
       "4  1004   fake\n",
       "5  1005   fake\n",
       "6  1006   fake\n",
       "7  1007   real\n",
       "8  1008   real\n",
       "9  1009   real"
      ]
     },
     "execution_count": 50,
     "metadata": {},
     "output_type": "execute_result"
    }
   ],
   "source": [
    "submission = pd.read_csv('Status_SVM.csv')\n",
    "submission.head(10)"
   ]
  },
  {
   "cell_type": "code",
   "execution_count": 51,
   "metadata": {},
   "outputs": [
    {
     "data": {
      "text/plain": [
       "((666, 11), (666,))"
      ]
     },
     "execution_count": 51,
     "metadata": {},
     "output_type": "execute_result"
    }
   ],
   "source": [
    "train_data.shape,target.shape"
   ]
  },
  {
   "cell_type": "code",
   "execution_count": 52,
   "metadata": {},
   "outputs": [
    {
     "data": {
      "text/plain": [
       "((223, 11), (666,))"
      ]
     },
     "execution_count": 52,
     "metadata": {},
     "output_type": "execute_result"
    }
   ],
   "source": [
    "test_data.shape,target.shape"
   ]
  },
  {
   "cell_type": "markdown",
   "metadata": {},
   "source": [
    "## TESTING RANDOM FOREST   #93%"
   ]
  },
  {
   "cell_type": "code",
   "execution_count": 53,
   "metadata": {},
   "outputs": [],
   "source": [
    "clf=RandomForestClassifier(n_estimators=13)\n",
    "clf.fit(train_data, target)\n",
    "\n",
    "test_data= test.drop('ID',axis=1).copy()\n",
    "prediction= clf.predict(test_data)"
   ]
  },
  {
   "cell_type": "code",
   "execution_count": 54,
   "metadata": {},
   "outputs": [],
   "source": [
    "submission= pd.DataFrame({\n",
    "    'ID': test['ID'],\n",
    "    'Status':prediction\n",
    "})\n",
    "\n",
    "submission.to_csv('Status_RandomForest.csv',index=False)"
   ]
  },
  {
   "cell_type": "code",
   "execution_count": 55,
   "metadata": {},
   "outputs": [
    {
     "data": {
      "text/html": [
       "<div>\n",
       "<style scoped>\n",
       "    .dataframe tbody tr th:only-of-type {\n",
       "        vertical-align: middle;\n",
       "    }\n",
       "\n",
       "    .dataframe tbody tr th {\n",
       "        vertical-align: top;\n",
       "    }\n",
       "\n",
       "    .dataframe thead th {\n",
       "        text-align: right;\n",
       "    }\n",
       "</style>\n",
       "<table border=\"1\" class=\"dataframe\">\n",
       "  <thead>\n",
       "    <tr style=\"text-align: right;\">\n",
       "      <th></th>\n",
       "      <th>ID</th>\n",
       "      <th>Status</th>\n",
       "    </tr>\n",
       "  </thead>\n",
       "  <tbody>\n",
       "    <tr>\n",
       "      <th>0</th>\n",
       "      <td>1000</td>\n",
       "      <td>real</td>\n",
       "    </tr>\n",
       "    <tr>\n",
       "      <th>1</th>\n",
       "      <td>1001</td>\n",
       "      <td>real</td>\n",
       "    </tr>\n",
       "    <tr>\n",
       "      <th>2</th>\n",
       "      <td>1002</td>\n",
       "      <td>real</td>\n",
       "    </tr>\n",
       "    <tr>\n",
       "      <th>3</th>\n",
       "      <td>1003</td>\n",
       "      <td>real</td>\n",
       "    </tr>\n",
       "    <tr>\n",
       "      <th>4</th>\n",
       "      <td>1004</td>\n",
       "      <td>fake</td>\n",
       "    </tr>\n",
       "    <tr>\n",
       "      <th>5</th>\n",
       "      <td>1005</td>\n",
       "      <td>real</td>\n",
       "    </tr>\n",
       "    <tr>\n",
       "      <th>6</th>\n",
       "      <td>1006</td>\n",
       "      <td>fake</td>\n",
       "    </tr>\n",
       "    <tr>\n",
       "      <th>7</th>\n",
       "      <td>1007</td>\n",
       "      <td>real</td>\n",
       "    </tr>\n",
       "    <tr>\n",
       "      <th>8</th>\n",
       "      <td>1008</td>\n",
       "      <td>real</td>\n",
       "    </tr>\n",
       "    <tr>\n",
       "      <th>9</th>\n",
       "      <td>1009</td>\n",
       "      <td>real</td>\n",
       "    </tr>\n",
       "  </tbody>\n",
       "</table>\n",
       "</div>"
      ],
      "text/plain": [
       "     ID Status\n",
       "0  1000   real\n",
       "1  1001   real\n",
       "2  1002   real\n",
       "3  1003   real\n",
       "4  1004   fake\n",
       "5  1005   real\n",
       "6  1006   fake\n",
       "7  1007   real\n",
       "8  1008   real\n",
       "9  1009   real"
      ]
     },
     "execution_count": 55,
     "metadata": {},
     "output_type": "execute_result"
    }
   ],
   "source": [
    "submission = pd.read_csv('Status_RandomForest.csv')\n",
    "submission.head(10)"
   ]
  },
  {
   "cell_type": "markdown",
   "metadata": {},
   "source": [
    "## TESTING Decision Tree  #97.7%"
   ]
  },
  {
   "cell_type": "code",
   "execution_count": 56,
   "metadata": {},
   "outputs": [],
   "source": [
    "clf=DecisionTreeClassifier()\n",
    "clf.fit(train_data, target)\n",
    "\n",
    "test_data= test.drop('ID',axis=1).copy()\n",
    "prediction= clf.predict(test_data)"
   ]
  },
  {
   "cell_type": "code",
   "execution_count": 57,
   "metadata": {},
   "outputs": [],
   "source": [
    "submission= pd.DataFrame({\n",
    "    'ID': test['ID'],\n",
    "    'Status':prediction\n",
    "})\n",
    "\n",
    "submission.to_csv('Status_DecisionTree.csv',index=False)"
   ]
  },
  {
   "cell_type": "code",
   "execution_count": 58,
   "metadata": {},
   "outputs": [
    {
     "data": {
      "text/html": [
       "<div>\n",
       "<style scoped>\n",
       "    .dataframe tbody tr th:only-of-type {\n",
       "        vertical-align: middle;\n",
       "    }\n",
       "\n",
       "    .dataframe tbody tr th {\n",
       "        vertical-align: top;\n",
       "    }\n",
       "\n",
       "    .dataframe thead th {\n",
       "        text-align: right;\n",
       "    }\n",
       "</style>\n",
       "<table border=\"1\" class=\"dataframe\">\n",
       "  <thead>\n",
       "    <tr style=\"text-align: right;\">\n",
       "      <th></th>\n",
       "      <th>ID</th>\n",
       "      <th>Status</th>\n",
       "    </tr>\n",
       "  </thead>\n",
       "  <tbody>\n",
       "    <tr>\n",
       "      <th>0</th>\n",
       "      <td>1000</td>\n",
       "      <td>real</td>\n",
       "    </tr>\n",
       "    <tr>\n",
       "      <th>1</th>\n",
       "      <td>1001</td>\n",
       "      <td>real</td>\n",
       "    </tr>\n",
       "    <tr>\n",
       "      <th>2</th>\n",
       "      <td>1002</td>\n",
       "      <td>real</td>\n",
       "    </tr>\n",
       "    <tr>\n",
       "      <th>3</th>\n",
       "      <td>1003</td>\n",
       "      <td>real</td>\n",
       "    </tr>\n",
       "    <tr>\n",
       "      <th>4</th>\n",
       "      <td>1004</td>\n",
       "      <td>fake</td>\n",
       "    </tr>\n",
       "    <tr>\n",
       "      <th>5</th>\n",
       "      <td>1005</td>\n",
       "      <td>real</td>\n",
       "    </tr>\n",
       "    <tr>\n",
       "      <th>6</th>\n",
       "      <td>1006</td>\n",
       "      <td>real</td>\n",
       "    </tr>\n",
       "    <tr>\n",
       "      <th>7</th>\n",
       "      <td>1007</td>\n",
       "      <td>real</td>\n",
       "    </tr>\n",
       "    <tr>\n",
       "      <th>8</th>\n",
       "      <td>1008</td>\n",
       "      <td>real</td>\n",
       "    </tr>\n",
       "    <tr>\n",
       "      <th>9</th>\n",
       "      <td>1009</td>\n",
       "      <td>real</td>\n",
       "    </tr>\n",
       "  </tbody>\n",
       "</table>\n",
       "</div>"
      ],
      "text/plain": [
       "     ID Status\n",
       "0  1000   real\n",
       "1  1001   real\n",
       "2  1002   real\n",
       "3  1003   real\n",
       "4  1004   fake\n",
       "5  1005   real\n",
       "6  1006   real\n",
       "7  1007   real\n",
       "8  1008   real\n",
       "9  1009   real"
      ]
     },
     "execution_count": 58,
     "metadata": {},
     "output_type": "execute_result"
    }
   ],
   "source": [
    "submission = pd.read_csv('Status_DecisionTree.csv')\n",
    "submission.head(10)"
   ]
  },
  {
   "cell_type": "markdown",
   "metadata": {},
   "source": [
    "## TESTING KNN #80.7%"
   ]
  },
  {
   "cell_type": "code",
   "execution_count": 59,
   "metadata": {},
   "outputs": [],
   "source": [
    "clf=KNeighborsClassifier(n_neighbors=13)\n",
    "clf.fit(train_data, target)\n",
    "\n",
    "test_data= test.drop('ID',axis=1).copy()\n",
    "prediction= clf.predict(test_data)"
   ]
  },
  {
   "cell_type": "code",
   "execution_count": 60,
   "metadata": {},
   "outputs": [],
   "source": [
    "submission= pd.DataFrame({\n",
    "    'ID': test['ID'],\n",
    "    'Status':prediction\n",
    "})\n",
    "\n",
    "submission.to_csv('Status_kNN.csv',index=False)"
   ]
  },
  {
   "cell_type": "code",
   "execution_count": 61,
   "metadata": {},
   "outputs": [
    {
     "data": {
      "text/html": [
       "<div>\n",
       "<style scoped>\n",
       "    .dataframe tbody tr th:only-of-type {\n",
       "        vertical-align: middle;\n",
       "    }\n",
       "\n",
       "    .dataframe tbody tr th {\n",
       "        vertical-align: top;\n",
       "    }\n",
       "\n",
       "    .dataframe thead th {\n",
       "        text-align: right;\n",
       "    }\n",
       "</style>\n",
       "<table border=\"1\" class=\"dataframe\">\n",
       "  <thead>\n",
       "    <tr style=\"text-align: right;\">\n",
       "      <th></th>\n",
       "      <th>ID</th>\n",
       "      <th>Status</th>\n",
       "    </tr>\n",
       "  </thead>\n",
       "  <tbody>\n",
       "    <tr>\n",
       "      <th>0</th>\n",
       "      <td>1000</td>\n",
       "      <td>real</td>\n",
       "    </tr>\n",
       "    <tr>\n",
       "      <th>1</th>\n",
       "      <td>1001</td>\n",
       "      <td>fake</td>\n",
       "    </tr>\n",
       "    <tr>\n",
       "      <th>2</th>\n",
       "      <td>1002</td>\n",
       "      <td>fake</td>\n",
       "    </tr>\n",
       "    <tr>\n",
       "      <th>3</th>\n",
       "      <td>1003</td>\n",
       "      <td>fake</td>\n",
       "    </tr>\n",
       "    <tr>\n",
       "      <th>4</th>\n",
       "      <td>1004</td>\n",
       "      <td>fake</td>\n",
       "    </tr>\n",
       "    <tr>\n",
       "      <th>5</th>\n",
       "      <td>1005</td>\n",
       "      <td>fake</td>\n",
       "    </tr>\n",
       "    <tr>\n",
       "      <th>6</th>\n",
       "      <td>1006</td>\n",
       "      <td>fake</td>\n",
       "    </tr>\n",
       "    <tr>\n",
       "      <th>7</th>\n",
       "      <td>1007</td>\n",
       "      <td>real</td>\n",
       "    </tr>\n",
       "    <tr>\n",
       "      <th>8</th>\n",
       "      <td>1008</td>\n",
       "      <td>fake</td>\n",
       "    </tr>\n",
       "    <tr>\n",
       "      <th>9</th>\n",
       "      <td>1009</td>\n",
       "      <td>real</td>\n",
       "    </tr>\n",
       "  </tbody>\n",
       "</table>\n",
       "</div>"
      ],
      "text/plain": [
       "     ID Status\n",
       "0  1000   real\n",
       "1  1001   fake\n",
       "2  1002   fake\n",
       "3  1003   fake\n",
       "4  1004   fake\n",
       "5  1005   fake\n",
       "6  1006   fake\n",
       "7  1007   real\n",
       "8  1008   fake\n",
       "9  1009   real"
      ]
     },
     "execution_count": 61,
     "metadata": {},
     "output_type": "execute_result"
    }
   ],
   "source": [
    "submission = pd.read_csv('Status_kNN.csv')\n",
    "submission.head(10)"
   ]
  },
  {
   "cell_type": "markdown",
   "metadata": {},
   "source": [
    "## TESTING Naive Bayes  #83.4%"
   ]
  },
  {
   "cell_type": "code",
   "execution_count": 62,
   "metadata": {},
   "outputs": [],
   "source": [
    "clf=GaussianNB()\n",
    "clf.fit(train_data, target)\n",
    "\n",
    "test_data= test.drop('ID',axis=1).copy()\n",
    "prediction= clf.predict(test_data)"
   ]
  },
  {
   "cell_type": "code",
   "execution_count": 63,
   "metadata": {},
   "outputs": [],
   "source": [
    "submission= pd.DataFrame({\n",
    "    'ID': test['ID'],\n",
    "    'Status':prediction\n",
    "})\n",
    "\n",
    "submission.to_csv('Status_NaiveBayes.csv',index=False)"
   ]
  },
  {
   "cell_type": "code",
   "execution_count": 64,
   "metadata": {},
   "outputs": [
    {
     "data": {
      "text/html": [
       "<div>\n",
       "<style scoped>\n",
       "    .dataframe tbody tr th:only-of-type {\n",
       "        vertical-align: middle;\n",
       "    }\n",
       "\n",
       "    .dataframe tbody tr th {\n",
       "        vertical-align: top;\n",
       "    }\n",
       "\n",
       "    .dataframe thead th {\n",
       "        text-align: right;\n",
       "    }\n",
       "</style>\n",
       "<table border=\"1\" class=\"dataframe\">\n",
       "  <thead>\n",
       "    <tr style=\"text-align: right;\">\n",
       "      <th></th>\n",
       "      <th>ID</th>\n",
       "      <th>Status</th>\n",
       "    </tr>\n",
       "  </thead>\n",
       "  <tbody>\n",
       "    <tr>\n",
       "      <th>0</th>\n",
       "      <td>1000</td>\n",
       "      <td>fake</td>\n",
       "    </tr>\n",
       "    <tr>\n",
       "      <th>1</th>\n",
       "      <td>1001</td>\n",
       "      <td>fake</td>\n",
       "    </tr>\n",
       "    <tr>\n",
       "      <th>2</th>\n",
       "      <td>1002</td>\n",
       "      <td>fake</td>\n",
       "    </tr>\n",
       "    <tr>\n",
       "      <th>3</th>\n",
       "      <td>1003</td>\n",
       "      <td>fake</td>\n",
       "    </tr>\n",
       "    <tr>\n",
       "      <th>4</th>\n",
       "      <td>1004</td>\n",
       "      <td>fake</td>\n",
       "    </tr>\n",
       "    <tr>\n",
       "      <th>5</th>\n",
       "      <td>1005</td>\n",
       "      <td>fake</td>\n",
       "    </tr>\n",
       "    <tr>\n",
       "      <th>6</th>\n",
       "      <td>1006</td>\n",
       "      <td>fake</td>\n",
       "    </tr>\n",
       "    <tr>\n",
       "      <th>7</th>\n",
       "      <td>1007</td>\n",
       "      <td>fake</td>\n",
       "    </tr>\n",
       "    <tr>\n",
       "      <th>8</th>\n",
       "      <td>1008</td>\n",
       "      <td>fake</td>\n",
       "    </tr>\n",
       "    <tr>\n",
       "      <th>9</th>\n",
       "      <td>1009</td>\n",
       "      <td>real</td>\n",
       "    </tr>\n",
       "  </tbody>\n",
       "</table>\n",
       "</div>"
      ],
      "text/plain": [
       "     ID Status\n",
       "0  1000   fake\n",
       "1  1001   fake\n",
       "2  1002   fake\n",
       "3  1003   fake\n",
       "4  1004   fake\n",
       "5  1005   fake\n",
       "6  1006   fake\n",
       "7  1007   fake\n",
       "8  1008   fake\n",
       "9  1009   real"
      ]
     },
     "execution_count": 64,
     "metadata": {},
     "output_type": "execute_result"
    }
   ],
   "source": [
    "submission = pd.read_csv('Status_NaiveBayes.csv')\n",
    "submission.head(10)"
   ]
  },
  {
   "cell_type": "code",
   "execution_count": null,
   "metadata": {},
   "outputs": [],
   "source": [
    "\n"
   ]
  },
  {
   "cell_type": "code",
   "execution_count": null,
   "metadata": {},
   "outputs": [],
   "source": []
  },
  {
   "cell_type": "code",
   "execution_count": null,
   "metadata": {},
   "outputs": [],
   "source": []
  },
  {
   "cell_type": "code",
   "execution_count": null,
   "metadata": {},
   "outputs": [],
   "source": []
  },
  {
   "cell_type": "code",
   "execution_count": null,
   "metadata": {},
   "outputs": [],
   "source": []
  }
 ],
 "metadata": {
  "kernelspec": {
   "display_name": "Python 3",
   "language": "python",
   "name": "python3"
  },
  "language_info": {
   "codemirror_mode": {
    "name": "ipython",
    "version": 3
   },
   "file_extension": ".py",
   "mimetype": "text/x-python",
   "name": "python",
   "nbconvert_exporter": "python",
   "pygments_lexer": "ipython3",
   "version": "3.7.0"
  }
 },
 "nbformat": 4,
 "nbformat_minor": 2
}
